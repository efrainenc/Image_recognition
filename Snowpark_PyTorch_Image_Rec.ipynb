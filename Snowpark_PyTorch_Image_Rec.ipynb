{
 "cells": [
  {
   "attachments": {},
   "cell_type": "markdown",
   "id": "3c443ab7-70ce-42d6-9884-2708b2651614",
   "metadata": {},
   "source": [
    "# Image Recognition in Snowflake using Snowpark Python and PyTorch\n",
    "\n",
    "_For comments and feedback, please reach out to [Dash](https://twitter.com/iamontheinet)_.\n"
   ]
  },
  {
   "cell_type": "code",
   "execution_count": 13,
   "id": "c9d57b21-7720-40a0-9a95-8431e0dd1e22",
   "metadata": {},
   "outputs": [],
   "source": [
    "# Snowpark\n",
    "from snowflake.snowpark.session import Session\n",
    "from snowflake.snowpark.functions import udf\n",
    "from snowflake.snowpark.version import VERSION\n",
    "\n",
    "# Misc\n",
    "import pandas as pd\n",
    "import json\n",
    "import cachetools\n",
    "import logging \n",
    "logger = logging.getLogger(\"snowflake.snowpark.session\")\n",
    "logger.setLevel(logging.ERROR)"
   ]
  },
  {
   "attachments": {},
   "cell_type": "markdown",
   "id": "fb72f258-f220-4bf8-9f77-6f0fc05df328",
   "metadata": {},
   "source": [
    "### Establish Secure Connection to Snowflake\n",
    "\n",
    "Using the Snowpark API, it’s quick and easy to establish a secure connection between Snowflake and Notebook.\n",
    "\n",
    " *Connection options: Username/Password, MFA, OAuth, Okta, SSO*"
   ]
  },
  {
   "cell_type": "code",
   "execution_count": 14,
   "id": "0defcbba-9ae1-4d1e-a44a-28b26cb837d8",
   "metadata": {},
   "outputs": [
    {
     "ename": "OperationalError",
     "evalue": "250001: Could not connect to Snowflake backend after 0 attempt(s).Aborting",
     "output_type": "error",
     "traceback": [
      "\u001b[0;31m---------------------------------------------------------------------------\u001b[0m",
      "\u001b[0;31mOperationalError\u001b[0m                          Traceback (most recent call last)",
      "File \u001b[0;32m~/miniconda3/envs/snowpark-img-rec/lib/python3.8/site-packages/snowflake/connector/connection.py:1125\u001b[0m, in \u001b[0;36mSnowflakeConnection._authenticate\u001b[0;34m(self, auth_instance)\u001b[0m\n\u001b[1;32m   1124\u001b[0m \u001b[39mtry\u001b[39;00m:\n\u001b[0;32m-> 1125\u001b[0m     auth\u001b[39m.\u001b[39;49mauthenticate(\n\u001b[1;32m   1126\u001b[0m         auth_instance\u001b[39m=\u001b[39;49mauth_instance,\n\u001b[1;32m   1127\u001b[0m         account\u001b[39m=\u001b[39;49m\u001b[39mself\u001b[39;49m\u001b[39m.\u001b[39;49maccount,\n\u001b[1;32m   1128\u001b[0m         user\u001b[39m=\u001b[39;49m\u001b[39mself\u001b[39;49m\u001b[39m.\u001b[39;49muser,\n\u001b[1;32m   1129\u001b[0m         database\u001b[39m=\u001b[39;49m\u001b[39mself\u001b[39;49m\u001b[39m.\u001b[39;49mdatabase,\n\u001b[1;32m   1130\u001b[0m         schema\u001b[39m=\u001b[39;49m\u001b[39mself\u001b[39;49m\u001b[39m.\u001b[39;49mschema,\n\u001b[1;32m   1131\u001b[0m         warehouse\u001b[39m=\u001b[39;49m\u001b[39mself\u001b[39;49m\u001b[39m.\u001b[39;49mwarehouse,\n\u001b[1;32m   1132\u001b[0m         role\u001b[39m=\u001b[39;49m\u001b[39mself\u001b[39;49m\u001b[39m.\u001b[39;49mrole,\n\u001b[1;32m   1133\u001b[0m         passcode\u001b[39m=\u001b[39;49m\u001b[39mself\u001b[39;49m\u001b[39m.\u001b[39;49m_passcode,\n\u001b[1;32m   1134\u001b[0m         passcode_in_password\u001b[39m=\u001b[39;49m\u001b[39mself\u001b[39;49m\u001b[39m.\u001b[39;49m_passcode_in_password,\n\u001b[1;32m   1135\u001b[0m         mfa_callback\u001b[39m=\u001b[39;49m\u001b[39mself\u001b[39;49m\u001b[39m.\u001b[39;49m_mfa_callback,\n\u001b[1;32m   1136\u001b[0m         password_callback\u001b[39m=\u001b[39;49m\u001b[39mself\u001b[39;49m\u001b[39m.\u001b[39;49m_password_callback,\n\u001b[1;32m   1137\u001b[0m         session_parameters\u001b[39m=\u001b[39;49m\u001b[39mself\u001b[39;49m\u001b[39m.\u001b[39;49m_session_parameters,\n\u001b[1;32m   1138\u001b[0m     )\n\u001b[1;32m   1139\u001b[0m \u001b[39mexcept\u001b[39;00m OperationalError \u001b[39mas\u001b[39;00m e:\n",
      "File \u001b[0;32m~/miniconda3/envs/snowpark-img-rec/lib/python3.8/site-packages/snowflake/connector/auth/_auth.py:250\u001b[0m, in \u001b[0;36mAuth.authenticate\u001b[0;34m(self, auth_instance, account, user, database, schema, warehouse, role, passcode, passcode_in_password, mfa_callback, password_callback, session_parameters, timeout)\u001b[0m\n\u001b[1;32m    249\u001b[0m \u001b[39mtry\u001b[39;00m:\n\u001b[0;32m--> 250\u001b[0m     ret \u001b[39m=\u001b[39m \u001b[39mself\u001b[39;49m\u001b[39m.\u001b[39;49m_rest\u001b[39m.\u001b[39;49m_post_request(\n\u001b[1;32m    251\u001b[0m         url,\n\u001b[1;32m    252\u001b[0m         headers,\n\u001b[1;32m    253\u001b[0m         json\u001b[39m.\u001b[39;49mdumps(body),\n\u001b[1;32m    254\u001b[0m         timeout\u001b[39m=\u001b[39;49mauth_timeout,\n\u001b[1;32m    255\u001b[0m         socket_timeout\u001b[39m=\u001b[39;49mauth_timeout,\n\u001b[1;32m    256\u001b[0m     )\n\u001b[1;32m    257\u001b[0m \u001b[39mexcept\u001b[39;00m ForbiddenError \u001b[39mas\u001b[39;00m err:\n\u001b[1;32m    258\u001b[0m     \u001b[39m# HTTP 403\u001b[39;00m\n",
      "File \u001b[0;32m~/miniconda3/envs/snowpark-img-rec/lib/python3.8/site-packages/snowflake/connector/network.py:716\u001b[0m, in \u001b[0;36mSnowflakeRestful._post_request\u001b[0;34m(self, url, headers, body, token, timeout, _no_results, no_retry, socket_timeout, _include_retry_params)\u001b[0m\n\u001b[1;32m    714\u001b[0m     pprint(ret)\n\u001b[0;32m--> 716\u001b[0m ret \u001b[39m=\u001b[39m \u001b[39mself\u001b[39;49m\u001b[39m.\u001b[39;49mfetch(\n\u001b[1;32m    717\u001b[0m     \u001b[39m\"\u001b[39;49m\u001b[39mpost\u001b[39;49m\u001b[39m\"\u001b[39;49m,\n\u001b[1;32m    718\u001b[0m     full_url,\n\u001b[1;32m    719\u001b[0m     headers,\n\u001b[1;32m    720\u001b[0m     data\u001b[39m=\u001b[39;49mbody,\n\u001b[1;32m    721\u001b[0m     timeout\u001b[39m=\u001b[39;49mtimeout,\n\u001b[1;32m    722\u001b[0m     token\u001b[39m=\u001b[39;49mtoken,\n\u001b[1;32m    723\u001b[0m     no_retry\u001b[39m=\u001b[39;49mno_retry,\n\u001b[1;32m    724\u001b[0m     socket_timeout\u001b[39m=\u001b[39;49msocket_timeout,\n\u001b[1;32m    725\u001b[0m     _include_retry_params\u001b[39m=\u001b[39;49m_include_retry_params,\n\u001b[1;32m    726\u001b[0m )\n\u001b[1;32m    727\u001b[0m logger\u001b[39m.\u001b[39mdebug(\n\u001b[1;32m    728\u001b[0m     \u001b[39m\"\u001b[39m\u001b[39mret[code] = \u001b[39m\u001b[39m{code}\u001b[39;00m\u001b[39m, after post request\u001b[39m\u001b[39m\"\u001b[39m\u001b[39m.\u001b[39mformat(\n\u001b[1;32m    729\u001b[0m         code\u001b[39m=\u001b[39m(ret\u001b[39m.\u001b[39mget(\u001b[39m\"\u001b[39m\u001b[39mcode\u001b[39m\u001b[39m\"\u001b[39m, \u001b[39m\"\u001b[39m\u001b[39mN/A\u001b[39m\u001b[39m\"\u001b[39m))\n\u001b[1;32m    730\u001b[0m     )\n\u001b[1;32m    731\u001b[0m )\n",
      "File \u001b[0;32m~/miniconda3/envs/snowpark-img-rec/lib/python3.8/site-packages/snowflake/connector/network.py:814\u001b[0m, in \u001b[0;36mSnowflakeRestful.fetch\u001b[0;34m(self, method, full_url, headers, data, timeout, **kwargs)\u001b[0m\n\u001b[1;32m    813\u001b[0m \u001b[39mwhile\u001b[39;00m \u001b[39mTrue\u001b[39;00m:\n\u001b[0;32m--> 814\u001b[0m     ret \u001b[39m=\u001b[39m \u001b[39mself\u001b[39;49m\u001b[39m.\u001b[39;49m_request_exec_wrapper(\n\u001b[1;32m    815\u001b[0m         session, method, full_url, headers, data, retry_ctx, \u001b[39m*\u001b[39;49m\u001b[39m*\u001b[39;49mkwargs\n\u001b[1;32m    816\u001b[0m     )\n\u001b[1;32m    817\u001b[0m     \u001b[39mif\u001b[39;00m ret \u001b[39mis\u001b[39;00m \u001b[39mnot\u001b[39;00m \u001b[39mNone\u001b[39;00m:\n",
      "File \u001b[0;32m~/miniconda3/envs/snowpark-img-rec/lib/python3.8/site-packages/snowflake/connector/network.py:937\u001b[0m, in \u001b[0;36mSnowflakeRestful._request_exec_wrapper\u001b[0;34m(self, session, method, full_url, headers, data, retry_ctx, no_retry, token, **kwargs)\u001b[0m\n\u001b[1;32m    936\u001b[0m \u001b[39mif\u001b[39;00m \u001b[39mnot\u001b[39;00m no_retry:\n\u001b[0;32m--> 937\u001b[0m     \u001b[39mraise\u001b[39;00m e\n\u001b[1;32m    938\u001b[0m logger\u001b[39m.\u001b[39mdebug(\u001b[39m\"\u001b[39m\u001b[39mIgnored error\u001b[39m\u001b[39m\"\u001b[39m, exc_info\u001b[39m=\u001b[39m\u001b[39mTrue\u001b[39;00m)\n",
      "File \u001b[0;32m~/miniconda3/envs/snowpark-img-rec/lib/python3.8/site-packages/snowflake/connector/network.py:868\u001b[0m, in \u001b[0;36mSnowflakeRestful._request_exec_wrapper\u001b[0;34m(self, session, method, full_url, headers, data, retry_ctx, no_retry, token, **kwargs)\u001b[0m\n\u001b[1;32m    867\u001b[0m     \u001b[39mreturn\u001b[39;00m return_object\n\u001b[0;32m--> 868\u001b[0m \u001b[39mself\u001b[39;49m\u001b[39m.\u001b[39;49m_handle_unknown_error(method, full_url, headers, data, conn)\n\u001b[1;32m    869\u001b[0m TelemetryService\u001b[39m.\u001b[39mget_instance()\u001b[39m.\u001b[39mlog_http_request_error(\n\u001b[1;32m    870\u001b[0m     \u001b[39m\"\u001b[39m\u001b[39mHttpRequestUnknownError\u001b[39m\u001b[39m\"\u001b[39m,\n\u001b[1;32m    871\u001b[0m     full_url,\n\u001b[0;32m   (...)\u001b[0m\n\u001b[1;32m    876\u001b[0m     retry_count\u001b[39m=\u001b[39mretry_ctx\u001b[39m.\u001b[39mcnt,\n\u001b[1;32m    877\u001b[0m )\n",
      "File \u001b[0;32m~/miniconda3/envs/snowpark-img-rec/lib/python3.8/site-packages/snowflake/connector/network.py:992\u001b[0m, in \u001b[0;36mSnowflakeRestful._handle_unknown_error\u001b[0;34m(self, method, full_url, headers, data, conn)\u001b[0m\n\u001b[1;32m    987\u001b[0m logger\u001b[39m.\u001b[39merror(\n\u001b[1;32m    988\u001b[0m     \u001b[39mf\u001b[39m\u001b[39m\"\u001b[39m\u001b[39mFailed to get the response. Hanging? \u001b[39m\u001b[39m\"\u001b[39m\n\u001b[1;32m    989\u001b[0m     \u001b[39mf\u001b[39m\u001b[39m\"\u001b[39m\u001b[39mmethod: \u001b[39m\u001b[39m{\u001b[39;00mmethod\u001b[39m}\u001b[39;00m\u001b[39m, url: \u001b[39m\u001b[39m{\u001b[39;00mfull_url\u001b[39m}\u001b[39;00m\u001b[39m, headers:\u001b[39m\u001b[39m{\u001b[39;00mheaders\u001b[39m}\u001b[39;00m\u001b[39m, \u001b[39m\u001b[39m\"\u001b[39m\n\u001b[1;32m    990\u001b[0m     \u001b[39mf\u001b[39m\u001b[39m\"\u001b[39m\u001b[39mdata: \u001b[39m\u001b[39m{\u001b[39;00mdata\u001b[39m}\u001b[39;00m\u001b[39m\"\u001b[39m\n\u001b[1;32m    991\u001b[0m )\n\u001b[0;32m--> 992\u001b[0m Error\u001b[39m.\u001b[39;49merrorhandler_wrapper(\n\u001b[1;32m    993\u001b[0m     conn,\n\u001b[1;32m    994\u001b[0m     \u001b[39mNone\u001b[39;49;00m,\n\u001b[1;32m    995\u001b[0m     OperationalError,\n\u001b[1;32m    996\u001b[0m     {\n\u001b[1;32m    997\u001b[0m         \u001b[39m\"\u001b[39;49m\u001b[39mmsg\u001b[39;49m\u001b[39m\"\u001b[39;49m: \u001b[39mf\u001b[39;49m\u001b[39m\"\u001b[39;49m\u001b[39mFailed to get the response. Hanging? method: \u001b[39;49m\u001b[39m{\u001b[39;49;00mmethod\u001b[39m}\u001b[39;49;00m\u001b[39m, url: \u001b[39;49m\u001b[39m{\u001b[39;49;00mfull_url\u001b[39m}\u001b[39;49;00m\u001b[39m\"\u001b[39;49m,\n\u001b[1;32m    998\u001b[0m         \u001b[39m\"\u001b[39;49m\u001b[39merrno\u001b[39;49m\u001b[39m\"\u001b[39;49m: ER_FAILED_TO_REQUEST,\n\u001b[1;32m    999\u001b[0m     },\n\u001b[1;32m   1000\u001b[0m )\n",
      "File \u001b[0;32m~/miniconda3/envs/snowpark-img-rec/lib/python3.8/site-packages/snowflake/connector/errors.py:290\u001b[0m, in \u001b[0;36mError.errorhandler_wrapper\u001b[0;34m(connection, cursor, error_class, error_value)\u001b[0m\n\u001b[1;32m    274\u001b[0m \u001b[39m\u001b[39m\u001b[39m\"\"\"Error handler wrapper that calls the errorhandler method.\u001b[39;00m\n\u001b[1;32m    275\u001b[0m \n\u001b[1;32m    276\u001b[0m \u001b[39mArgs:\u001b[39;00m\n\u001b[0;32m   (...)\u001b[0m\n\u001b[1;32m    287\u001b[0m \u001b[39m    exception to the first handler in that order.\u001b[39;00m\n\u001b[1;32m    288\u001b[0m \u001b[39m\"\"\"\u001b[39;00m\n\u001b[0;32m--> 290\u001b[0m handed_over \u001b[39m=\u001b[39m Error\u001b[39m.\u001b[39;49mhand_to_other_handler(\n\u001b[1;32m    291\u001b[0m     connection,\n\u001b[1;32m    292\u001b[0m     cursor,\n\u001b[1;32m    293\u001b[0m     error_class,\n\u001b[1;32m    294\u001b[0m     error_value,\n\u001b[1;32m    295\u001b[0m )\n\u001b[1;32m    296\u001b[0m \u001b[39mif\u001b[39;00m \u001b[39mnot\u001b[39;00m handed_over:\n",
      "File \u001b[0;32m~/miniconda3/envs/snowpark-img-rec/lib/python3.8/site-packages/snowflake/connector/errors.py:348\u001b[0m, in \u001b[0;36mError.hand_to_other_handler\u001b[0;34m(connection, cursor, error_class, error_value)\u001b[0m\n\u001b[1;32m    347\u001b[0m \u001b[39melif\u001b[39;00m connection \u001b[39mis\u001b[39;00m \u001b[39mnot\u001b[39;00m \u001b[39mNone\u001b[39;00m:\n\u001b[0;32m--> 348\u001b[0m     connection\u001b[39m.\u001b[39;49merrorhandler(connection, cursor, error_class, error_value)\n\u001b[1;32m    349\u001b[0m     \u001b[39mreturn\u001b[39;00m \u001b[39mTrue\u001b[39;00m\n",
      "File \u001b[0;32m~/miniconda3/envs/snowpark-img-rec/lib/python3.8/site-packages/snowflake/connector/errors.py:221\u001b[0m, in \u001b[0;36mError.default_errorhandler\u001b[0;34m(connection, cursor, error_class, error_value)\u001b[0m\n\u001b[1;32m    220\u001b[0m done_format_msg \u001b[39m=\u001b[39m error_value\u001b[39m.\u001b[39mget(\u001b[39m\"\u001b[39m\u001b[39mdone_format_msg\u001b[39m\u001b[39m\"\u001b[39m)\n\u001b[0;32m--> 221\u001b[0m \u001b[39mraise\u001b[39;00m error_class(\n\u001b[1;32m    222\u001b[0m     msg\u001b[39m=\u001b[39merror_value\u001b[39m.\u001b[39mget(\u001b[39m\"\u001b[39m\u001b[39mmsg\u001b[39m\u001b[39m\"\u001b[39m),\n\u001b[1;32m    223\u001b[0m     errno\u001b[39m=\u001b[39m\u001b[39mNone\u001b[39;00m \u001b[39mif\u001b[39;00m errno \u001b[39mis\u001b[39;00m \u001b[39mNone\u001b[39;00m \u001b[39melse\u001b[39;00m \u001b[39mint\u001b[39m(errno),\n\u001b[1;32m    224\u001b[0m     sqlstate\u001b[39m=\u001b[39merror_value\u001b[39m.\u001b[39mget(\u001b[39m\"\u001b[39m\u001b[39msqlstate\u001b[39m\u001b[39m\"\u001b[39m),\n\u001b[1;32m    225\u001b[0m     sfqid\u001b[39m=\u001b[39merror_value\u001b[39m.\u001b[39mget(\u001b[39m\"\u001b[39m\u001b[39msfqid\u001b[39m\u001b[39m\"\u001b[39m),\n\u001b[1;32m    226\u001b[0m     query\u001b[39m=\u001b[39merror_value\u001b[39m.\u001b[39mget(\u001b[39m\"\u001b[39m\u001b[39mquery\u001b[39m\u001b[39m\"\u001b[39m),\n\u001b[1;32m    227\u001b[0m     done_format_msg\u001b[39m=\u001b[39m(\n\u001b[1;32m    228\u001b[0m         \u001b[39mNone\u001b[39;00m \u001b[39mif\u001b[39;00m done_format_msg \u001b[39mis\u001b[39;00m \u001b[39mNone\u001b[39;00m \u001b[39melse\u001b[39;00m \u001b[39mbool\u001b[39m(done_format_msg)\n\u001b[1;32m    229\u001b[0m     ),\n\u001b[1;32m    230\u001b[0m     connection\u001b[39m=\u001b[39mconnection,\n\u001b[1;32m    231\u001b[0m     cursor\u001b[39m=\u001b[39mcursor,\n\u001b[1;32m    232\u001b[0m )\n",
      "\u001b[0;31mOperationalError\u001b[0m: 250003: Failed to get the response. Hanging? method: post, url: https://XZSGSEY.GDB86712.snowflakecomputing.com:443/session/v1/login-request?request_id=a9e4530e-7070-4ad2-a5cf-847821128489&databaseName=IMAGE_RECOGNITION&schemaName=PUBLIC&warehouse=COMPUTE_WH&roleName=ACCOUNTADMIN&request_guid=336b8a06-743d-4462-95b0-c732e1244787",
      "\nThe above exception was the direct cause of the following exception:\n",
      "\u001b[0;31mOperationalError\u001b[0m                          Traceback (most recent call last)",
      "Cell \u001b[0;32mIn[14], line 3\u001b[0m\n\u001b[1;32m      1\u001b[0m \u001b[39m# Create Snowflake Session object\u001b[39;00m\n\u001b[1;32m      2\u001b[0m connection_parameters \u001b[39m=\u001b[39m json\u001b[39m.\u001b[39mload(\u001b[39mopen\u001b[39m(\u001b[39m'\u001b[39m\u001b[39mconnection.json\u001b[39m\u001b[39m'\u001b[39m))\n\u001b[0;32m----> 3\u001b[0m session \u001b[39m=\u001b[39m Session\u001b[39m.\u001b[39;49mbuilder\u001b[39m.\u001b[39;49mconfigs(connection_parameters)\u001b[39m.\u001b[39;49mcreate()\n\u001b[1;32m      4\u001b[0m session\u001b[39m.\u001b[39msql_simplifier_enabled \u001b[39m=\u001b[39m \u001b[39mTrue\u001b[39;00m\n\u001b[1;32m      6\u001b[0m snowflake_environment \u001b[39m=\u001b[39m session\u001b[39m.\u001b[39msql(\u001b[39m'\u001b[39m\u001b[39mselect current_user(), current_role(), current_database(), current_schema(), current_version(), current_warehouse()\u001b[39m\u001b[39m'\u001b[39m)\u001b[39m.\u001b[39mcollect()\n",
      "File \u001b[0;32m~/miniconda3/envs/snowpark-img-rec/lib/python3.8/site-packages/snowflake/snowpark/session.py:279\u001b[0m, in \u001b[0;36mSession.SessionBuilder.create\u001b[0;34m(self)\u001b[0m\n\u001b[1;32m    277\u001b[0m \u001b[39mdef\u001b[39;00m \u001b[39mcreate\u001b[39m(\u001b[39mself\u001b[39m) \u001b[39m-\u001b[39m\u001b[39m>\u001b[39m \u001b[39m\"\u001b[39m\u001b[39mSession\u001b[39m\u001b[39m\"\u001b[39m:\n\u001b[1;32m    278\u001b[0m \u001b[39m    \u001b[39m\u001b[39m\"\"\"Creates a new Session.\"\"\"\u001b[39;00m\n\u001b[0;32m--> 279\u001b[0m     session \u001b[39m=\u001b[39m \u001b[39mself\u001b[39;49m\u001b[39m.\u001b[39;49m_create_internal(\u001b[39mself\u001b[39;49m\u001b[39m.\u001b[39;49m_options\u001b[39m.\u001b[39;49mget(\u001b[39m\"\u001b[39;49m\u001b[39mconnection\u001b[39;49m\u001b[39m\"\u001b[39;49m))\n\u001b[1;32m    280\u001b[0m     \u001b[39mreturn\u001b[39;00m session\n",
      "File \u001b[0;32m~/miniconda3/envs/snowpark-img-rec/lib/python3.8/site-packages/snowflake/snowpark/session.py:289\u001b[0m, in \u001b[0;36mSession.SessionBuilder._create_internal\u001b[0;34m(self, conn)\u001b[0m\n\u001b[1;32m    286\u001b[0m \u001b[39mif\u001b[39;00m \u001b[39m\"\u001b[39m\u001b[39mparamstyle\u001b[39m\u001b[39m\"\u001b[39m \u001b[39mnot\u001b[39;00m \u001b[39min\u001b[39;00m \u001b[39mself\u001b[39m\u001b[39m.\u001b[39m_options:\n\u001b[1;32m    287\u001b[0m     \u001b[39mself\u001b[39m\u001b[39m.\u001b[39m_options[\u001b[39m\"\u001b[39m\u001b[39mparamstyle\u001b[39m\u001b[39m\"\u001b[39m] \u001b[39m=\u001b[39m \u001b[39m\"\u001b[39m\u001b[39mqmark\u001b[39m\u001b[39m\"\u001b[39m\n\u001b[1;32m    288\u001b[0m new_session \u001b[39m=\u001b[39m Session(\n\u001b[0;32m--> 289\u001b[0m     ServerConnection({}, conn) \u001b[39mif\u001b[39;00m conn \u001b[39melse\u001b[39;00m ServerConnection(\u001b[39mself\u001b[39;49m\u001b[39m.\u001b[39;49m_options),\n\u001b[1;32m    290\u001b[0m     \u001b[39mself\u001b[39m\u001b[39m.\u001b[39m_options,\n\u001b[1;32m    291\u001b[0m )\n\u001b[1;32m    293\u001b[0m \u001b[39mif\u001b[39;00m \u001b[39m\"\u001b[39m\u001b[39mpassword\u001b[39m\u001b[39m\"\u001b[39m \u001b[39min\u001b[39;00m \u001b[39mself\u001b[39m\u001b[39m.\u001b[39m_options:\n\u001b[1;32m    294\u001b[0m     \u001b[39mself\u001b[39m\u001b[39m.\u001b[39m_options[\u001b[39m\"\u001b[39m\u001b[39mpassword\u001b[39m\u001b[39m\"\u001b[39m] \u001b[39m=\u001b[39m \u001b[39mNone\u001b[39;00m\n",
      "File \u001b[0;32m~/miniconda3/envs/snowpark-img-rec/lib/python3.8/site-packages/snowflake/snowpark/_internal/server_connection.py:135\u001b[0m, in \u001b[0;36mServerConnection.__init__\u001b[0;34m(self, options, conn)\u001b[0m\n\u001b[1;32m    133\u001b[0m \u001b[39mself\u001b[39m\u001b[39m.\u001b[39m_lower_case_parameters \u001b[39m=\u001b[39m {k\u001b[39m.\u001b[39mlower(): v \u001b[39mfor\u001b[39;00m k, v \u001b[39min\u001b[39;00m options\u001b[39m.\u001b[39mitems()}\n\u001b[1;32m    134\u001b[0m \u001b[39mself\u001b[39m\u001b[39m.\u001b[39m_add_application_name()\n\u001b[0;32m--> 135\u001b[0m \u001b[39mself\u001b[39m\u001b[39m.\u001b[39m_conn \u001b[39m=\u001b[39m conn \u001b[39mif\u001b[39;00m conn \u001b[39melse\u001b[39;00m connect(\u001b[39m*\u001b[39;49m\u001b[39m*\u001b[39;49m\u001b[39mself\u001b[39;49m\u001b[39m.\u001b[39;49m_lower_case_parameters)\n\u001b[1;32m    136\u001b[0m \u001b[39mif\u001b[39;00m \u001b[39m\"\u001b[39m\u001b[39mpassword\u001b[39m\u001b[39m\"\u001b[39m \u001b[39min\u001b[39;00m \u001b[39mself\u001b[39m\u001b[39m.\u001b[39m_lower_case_parameters:\n\u001b[1;32m    137\u001b[0m     \u001b[39mself\u001b[39m\u001b[39m.\u001b[39m_lower_case_parameters[\u001b[39m\"\u001b[39m\u001b[39mpassword\u001b[39m\u001b[39m\"\u001b[39m] \u001b[39m=\u001b[39m \u001b[39mNone\u001b[39;00m\n",
      "File \u001b[0;32m~/miniconda3/envs/snowpark-img-rec/lib/python3.8/site-packages/snowflake/connector/__init__.py:51\u001b[0m, in \u001b[0;36mConnect\u001b[0;34m(**kwargs)\u001b[0m\n\u001b[1;32m     50\u001b[0m \u001b[39mdef\u001b[39;00m \u001b[39mConnect\u001b[39m(\u001b[39m*\u001b[39m\u001b[39m*\u001b[39mkwargs) \u001b[39m-\u001b[39m\u001b[39m>\u001b[39m SnowflakeConnection:\n\u001b[0;32m---> 51\u001b[0m     \u001b[39mreturn\u001b[39;00m SnowflakeConnection(\u001b[39m*\u001b[39;49m\u001b[39m*\u001b[39;49mkwargs)\n",
      "File \u001b[0;32m~/miniconda3/envs/snowpark-img-rec/lib/python3.8/site-packages/snowflake/connector/connection.py:304\u001b[0m, in \u001b[0;36mSnowflakeConnection.__init__\u001b[0;34m(self, **kwargs)\u001b[0m\n\u001b[1;32m    302\u001b[0m \u001b[39mself\u001b[39m\u001b[39m.\u001b[39mconverter \u001b[39m=\u001b[39m \u001b[39mNone\u001b[39;00m\n\u001b[1;32m    303\u001b[0m \u001b[39mself\u001b[39m\u001b[39m.\u001b[39m__set_error_attributes()\n\u001b[0;32m--> 304\u001b[0m \u001b[39mself\u001b[39;49m\u001b[39m.\u001b[39;49mconnect(\u001b[39m*\u001b[39;49m\u001b[39m*\u001b[39;49mkwargs)\n\u001b[1;32m    305\u001b[0m \u001b[39mself\u001b[39m\u001b[39m.\u001b[39m_telemetry \u001b[39m=\u001b[39m TelemetryClient(\u001b[39mself\u001b[39m\u001b[39m.\u001b[39m_rest)\n\u001b[1;32m    307\u001b[0m \u001b[39m# get the imported modules from sys.modules\u001b[39;00m\n",
      "File \u001b[0;32m~/miniconda3/envs/snowpark-img-rec/lib/python3.8/site-packages/snowflake/connector/connection.py:571\u001b[0m, in \u001b[0;36mSnowflakeConnection.connect\u001b[0;34m(self, **kwargs)\u001b[0m\n\u001b[1;32m    569\u001b[0m         connection_diag\u001b[39m.\u001b[39mgenerate_report()\n\u001b[1;32m    570\u001b[0m \u001b[39melse\u001b[39;00m:\n\u001b[0;32m--> 571\u001b[0m     \u001b[39mself\u001b[39;49m\u001b[39m.\u001b[39;49m__open_connection()\n",
      "File \u001b[0;32m~/miniconda3/envs/snowpark-img-rec/lib/python3.8/site-packages/snowflake/connector/connection.py:839\u001b[0m, in \u001b[0;36mSnowflakeConnection.__open_connection\u001b[0;34m(self)\u001b[0m\n\u001b[1;32m    835\u001b[0m \u001b[39melse\u001b[39;00m:\n\u001b[1;32m    836\u001b[0m     \u001b[39m# okta URL, e.g., https://<account>.okta.com/\u001b[39;00m\n\u001b[1;32m    837\u001b[0m     \u001b[39mself\u001b[39m\u001b[39m.\u001b[39mauth_class \u001b[39m=\u001b[39m AuthByOkta(application\u001b[39m=\u001b[39m\u001b[39mself\u001b[39m\u001b[39m.\u001b[39mapplication)\n\u001b[0;32m--> 839\u001b[0m \u001b[39mself\u001b[39;49m\u001b[39m.\u001b[39;49mauthenticate_with_retry(\u001b[39mself\u001b[39;49m\u001b[39m.\u001b[39;49mauth_class)\n\u001b[1;32m    841\u001b[0m \u001b[39mself\u001b[39m\u001b[39m.\u001b[39m_password \u001b[39m=\u001b[39m \u001b[39mNone\u001b[39;00m  \u001b[39m# ensure password won't persist\u001b[39;00m\n\u001b[1;32m    842\u001b[0m \u001b[39mself\u001b[39m\u001b[39m.\u001b[39mauth_class\u001b[39m.\u001b[39mreset_secrets()\n",
      "File \u001b[0;32m~/miniconda3/envs/snowpark-img-rec/lib/python3.8/site-packages/snowflake/connector/connection.py:1099\u001b[0m, in \u001b[0;36mSnowflakeConnection.authenticate_with_retry\u001b[0;34m(self, auth_instance)\u001b[0m\n\u001b[1;32m   1096\u001b[0m \u001b[39mdef\u001b[39;00m \u001b[39mauthenticate_with_retry\u001b[39m(\u001b[39mself\u001b[39m, auth_instance) \u001b[39m-\u001b[39m\u001b[39m>\u001b[39m \u001b[39mNone\u001b[39;00m:\n\u001b[1;32m   1097\u001b[0m     \u001b[39m# make some changes if needed before real __authenticate\u001b[39;00m\n\u001b[1;32m   1098\u001b[0m     \u001b[39mtry\u001b[39;00m:\n\u001b[0;32m-> 1099\u001b[0m         \u001b[39mself\u001b[39;49m\u001b[39m.\u001b[39;49m_authenticate(auth_instance)\n\u001b[1;32m   1100\u001b[0m     \u001b[39mexcept\u001b[39;00m ReauthenticationRequest \u001b[39mas\u001b[39;00m ex:\n\u001b[1;32m   1101\u001b[0m         \u001b[39m# cached id_token expiration error, we have cleaned id_token and try to authenticate again\u001b[39;00m\n\u001b[1;32m   1102\u001b[0m         logger\u001b[39m.\u001b[39mdebug(\u001b[39m\"\u001b[39m\u001b[39mID token expired. Reauthenticating...: \u001b[39m\u001b[39m%s\u001b[39;00m\u001b[39m\"\u001b[39m, ex)\n",
      "File \u001b[0;32m~/miniconda3/envs/snowpark-img-rec/lib/python3.8/site-packages/snowflake/connector/connection.py:1170\u001b[0m, in \u001b[0;36mSnowflakeConnection._authenticate\u001b[0;34m(self, auth_instance)\u001b[0m\n\u001b[1;32m   1168\u001b[0m \u001b[39mexcept\u001b[39;00m OperationalError \u001b[39mas\u001b[39;00m auth_op:\n\u001b[1;32m   1169\u001b[0m     \u001b[39mif\u001b[39;00m auth_op\u001b[39m.\u001b[39merrno \u001b[39m==\u001b[39m ER_FAILED_TO_CONNECT_TO_DB:\n\u001b[0;32m-> 1170\u001b[0m         \u001b[39mraise\u001b[39;00m auth_op \u001b[39mfrom\u001b[39;00m \u001b[39me\u001b[39;00m\n\u001b[1;32m   1171\u001b[0m     logger\u001b[39m.\u001b[39mdebug(\u001b[39m\"\u001b[39m\u001b[39mContinuing authenticator specific timeout handling\u001b[39m\u001b[39m\"\u001b[39m)\n\u001b[1;32m   1172\u001b[0m     \u001b[39mcontinue\u001b[39;00m\n",
      "File \u001b[0;32m~/miniconda3/envs/snowpark-img-rec/lib/python3.8/site-packages/snowflake/connector/connection.py:1147\u001b[0m, in \u001b[0;36mSnowflakeConnection._authenticate\u001b[0;34m(self, auth_instance)\u001b[0m\n\u001b[1;32m   1145\u001b[0m \u001b[39mwhile\u001b[39;00m \u001b[39mTrue\u001b[39;00m:\n\u001b[1;32m   1146\u001b[0m     \u001b[39mtry\u001b[39;00m:\n\u001b[0;32m-> 1147\u001b[0m         auth_instance\u001b[39m.\u001b[39;49mhandle_timeout(\n\u001b[1;32m   1148\u001b[0m             authenticator\u001b[39m=\u001b[39;49m\u001b[39mself\u001b[39;49m\u001b[39m.\u001b[39;49m_authenticator,\n\u001b[1;32m   1149\u001b[0m             service_name\u001b[39m=\u001b[39;49m\u001b[39mself\u001b[39;49m\u001b[39m.\u001b[39;49mservice_name,\n\u001b[1;32m   1150\u001b[0m             account\u001b[39m=\u001b[39;49m\u001b[39mself\u001b[39;49m\u001b[39m.\u001b[39;49maccount,\n\u001b[1;32m   1151\u001b[0m             user\u001b[39m=\u001b[39;49m\u001b[39mself\u001b[39;49m\u001b[39m.\u001b[39;49muser,\n\u001b[1;32m   1152\u001b[0m             password\u001b[39m=\u001b[39;49m\u001b[39mself\u001b[39;49m\u001b[39m.\u001b[39;49m_password,\n\u001b[1;32m   1153\u001b[0m         )\n\u001b[1;32m   1154\u001b[0m         auth\u001b[39m.\u001b[39mauthenticate(\n\u001b[1;32m   1155\u001b[0m             auth_instance\u001b[39m=\u001b[39mauth_instance,\n\u001b[1;32m   1156\u001b[0m             account\u001b[39m=\u001b[39m\u001b[39mself\u001b[39m\u001b[39m.\u001b[39maccount,\n\u001b[0;32m   (...)\u001b[0m\n\u001b[1;32m   1166\u001b[0m             session_parameters\u001b[39m=\u001b[39m\u001b[39mself\u001b[39m\u001b[39m.\u001b[39m_session_parameters,\n\u001b[1;32m   1167\u001b[0m         )\n\u001b[1;32m   1168\u001b[0m     \u001b[39mexcept\u001b[39;00m OperationalError \u001b[39mas\u001b[39;00m auth_op:\n",
      "File \u001b[0;32m~/miniconda3/envs/snowpark-img-rec/lib/python3.8/site-packages/snowflake/connector/auth/by_plugin.py:214\u001b[0m, in \u001b[0;36mAuthByPlugin.handle_timeout\u001b[0;34m(***failed resolving arguments***)\u001b[0m\n\u001b[1;32m    212\u001b[0m \u001b[39mif\u001b[39;00m \u001b[39mnot\u001b[39;00m \u001b[39mself\u001b[39m\u001b[39m.\u001b[39m_retry_ctx\u001b[39m.\u001b[39mshould_retry():\n\u001b[1;32m    213\u001b[0m     \u001b[39mself\u001b[39m\u001b[39m.\u001b[39m_retry_ctx\u001b[39m.\u001b[39mreset()\n\u001b[0;32m--> 214\u001b[0m     \u001b[39mraise\u001b[39;00m OperationalError(\n\u001b[1;32m    215\u001b[0m         msg\u001b[39m=\u001b[39m\u001b[39mf\u001b[39m\u001b[39m\"\u001b[39m\u001b[39mCould not connect to Snowflake backend after \u001b[39m\u001b[39m{\u001b[39;00m\u001b[39mself\u001b[39m\u001b[39m.\u001b[39m_retry_ctx\u001b[39m.\u001b[39mget_current_retry_count()\u001b[39m}\u001b[39;00m\u001b[39m attempt(s).\u001b[39m\u001b[39m\"\u001b[39m\n\u001b[1;32m    216\u001b[0m         \u001b[39m\"\u001b[39m\u001b[39mAborting\u001b[39m\u001b[39m\"\u001b[39m,\n\u001b[1;32m    217\u001b[0m         errno\u001b[39m=\u001b[39mER_FAILED_TO_CONNECT_TO_DB,\n\u001b[1;32m    218\u001b[0m     )\n\u001b[1;32m    219\u001b[0m \u001b[39melse\u001b[39;00m:\n\u001b[1;32m    220\u001b[0m     logger\u001b[39m.\u001b[39mdebug(\n\u001b[1;32m    221\u001b[0m         \u001b[39mf\u001b[39m\u001b[39m\"\u001b[39m\u001b[39mHit connection timeout, attempt number \u001b[39m\u001b[39m{\u001b[39;00m\u001b[39mself\u001b[39m\u001b[39m.\u001b[39m_retry_ctx\u001b[39m.\u001b[39mget_current_retry_count()\u001b[39m}\u001b[39;00m\u001b[39m.\u001b[39m\u001b[39m\"\u001b[39m\n\u001b[1;32m    222\u001b[0m         \u001b[39m\"\u001b[39m\u001b[39m Will retry in a bit...\u001b[39m\u001b[39m\"\u001b[39m\n\u001b[1;32m    223\u001b[0m     )\n",
      "\u001b[0;31mOperationalError\u001b[0m: 250001: Could not connect to Snowflake backend after 0 attempt(s).Aborting"
     ]
    }
   ],
   "source": [
    "# Create Snowflake Session object\n",
    "connection_parameters = json.load(open('connection.json'))\n",
    "session = Session.builder.configs(connection_parameters).create()\n",
    "session.sql_simplifier_enabled = True\n",
    "\n",
    "snowflake_environment = session.sql('select current_user(), current_role(), current_database(), current_schema(), current_version(), current_warehouse()').collect()\n",
    "snowpark_version = VERSION\n",
    "\n",
    "# Current Environment Details\n",
    "print('User                        : {}'.format(snowflake_environment[0][0]))\n",
    "print('Role                        : {}'.format(snowflake_environment[0][1]))\n",
    "print('Database                    : {}'.format(snowflake_environment[0][2]))\n",
    "print('Schema                      : {}'.format(snowflake_environment[0][3]))\n",
    "print('Warehouse                   : {}'.format(snowflake_environment[0][5]))\n",
    "print('Snowflake version           : {}'.format(snowflake_environment[0][4]))\n",
    "print('Snowpark for Python version : {}.{}.{}'.format(snowpark_version[0],snowpark_version[1],snowpark_version[2]))"
   ]
  },
  {
   "attachments": {},
   "cell_type": "markdown",
   "id": "a802412b",
   "metadata": {},
   "source": [
    "### Upload MobileNet V3 files to Snowflake Internal stage"
   ]
  },
  {
   "cell_type": "code",
   "execution_count": null,
   "id": "31f8ed41",
   "metadata": {},
   "outputs": [],
   "source": [
    "session.file.put('imagenet1000_clsidx_to_labels.txt','@evan_files',overwrite=True,auto_compress=False)\n",
    "session.file.put('mobilenetv3.py','@dash_files',overwrite=True,auto_compress=False)\n",
    "session.file.put('mobilenetv3-large-1cd25616.pth','@evan_files',overwrite=True,auto_compress=False)"
   ]
  },
  {
   "attachments": {},
   "cell_type": "markdown",
   "id": "e45c42f1",
   "metadata": {},
   "source": [
    "### Snowpark Python User-Defined Function (UDF) for image recognition\n",
    "\n",
    "Now to deploy the pre-trained model for inference, let's **create and register a Snowpark Python UDF and add the model files as dependencies**. Once registered, getting new predictions is as simple as calling the function by passing in data.\n",
    "\n",
    "*NOTE: Scalar UDFs operate on a single row / set of data points and are great for online inference in real-time. And this UDF is called from [Snowpark_PyTorch_Streamlit_Upload_Image_Rec](Snowpark_PyTorch_Streamlit_Upload_Image_Rec.py) and [Snowpark_PyTorch_Streamlit_OpenAI_Image_Rec](Snowpark_PyTorch_Streamlit_OpenAI_Image_Rec.py) Streamlit apps.*\n",
    "\n",
    "TIP: For more information on Snowpark Python User-Defined Functions, refer to the [docs](https://docs.snowflake.com/en/developer-guide/snowpark/python/creating-udfs.html)."
   ]
  },
  {
   "cell_type": "code",
   "execution_count": null,
   "id": "a5a53131",
   "metadata": {},
   "outputs": [],
   "source": [
    "session.clear_packages()\n",
    "session.clear_imports()\n",
    "\n",
    "# Add model files and test images as dependencies on the UDF\n",
    "session.add_import('@evan_files/imagenet1000_clsidx_to_labels.txt')\n",
    "session.add_import('@evan_files/mobilenetv3.py')\n",
    "session.add_import('@evan_files/mobilenetv3-large-1cd25616.pth')\n",
    "\n",
    "# Add Python packages from Snowflke Anaconda channel\n",
    "session.add_packages('snowflake-snowpark-python','torchvision','joblib','cachetools')\n",
    "\n",
    "@cachetools.cached(cache={})\n",
    "def load_class_mapping(filename):\n",
    "  with open(filename, \"r\") as f:\n",
    "   return f.read()\n",
    "\n",
    "@cachetools.cached(cache={})\n",
    "def load_model():\n",
    "  import sys\n",
    "  import torch\n",
    "  from torchvision import models, transforms\n",
    "  import ast\n",
    "  from mobilenetv3 import mobilenetv3_large\n",
    "\n",
    "  IMPORT_DIRECTORY_NAME = \"snowflake_import_directory\"\n",
    "  import_dir = sys._xoptions[IMPORT_DIRECTORY_NAME]\n",
    "\n",
    "  model_file = import_dir + 'mobilenetv3-large-1cd25616.pth'\n",
    "  imgnet_class_mapping_file = import_dir + 'imagenet1000_clsidx_to_labels.txt'\n",
    "\n",
    "  IMAGENET_DEFAULT_MEAN, IMAGENET_DEFAULT_STD = ((0.485, 0.456, 0.406), (0.229, 0.224, 0.225))\n",
    "\n",
    "  transform = transforms.Compose([\n",
    "      transforms.Resize(256, interpolation=transforms.InterpolationMode.BICUBIC),\n",
    "      transforms.CenterCrop(224),\n",
    "      transforms.ToTensor(),\n",
    "      transforms.Normalize(IMAGENET_DEFAULT_MEAN, IMAGENET_DEFAULT_STD)\n",
    "  ])\n",
    "\n",
    "  # Load the Imagenet {class: label} mapping\n",
    "  cls_idx = load_class_mapping(imgnet_class_mapping_file)\n",
    "  cls_idx = ast.literal_eval(cls_idx)\n",
    "\n",
    "  # Load pretrained image recognition model\n",
    "  model = mobilenetv3_large()\n",
    "  model.load_state_dict(torch.load(model_file))\n",
    "\n",
    "  # Configure pretrained model for inference\n",
    "  model.eval().requires_grad_(False)\n",
    "\n",
    "  return model, transform, cls_idx\n",
    "\n",
    "def load_image(image_bytes_in_str):\n",
    "  import os\n",
    "  image_file = '/tmp/' + str(os.getpid())\n",
    "  image_bytes_in_hex = bytes.fromhex(image_bytes_in_str)\n",
    "\n",
    "  with open(image_file, 'wb') as f:\n",
    "    f.write(image_bytes_in_hex)\n",
    "\n",
    "  return open(image_file, 'rb')\n",
    "\n",
    "@udf(name='image_recognition_using_bytes',session=session,replace=True,is_permanent=True,stage_location='@dash_files')\n",
    "def image_recognition_using_bytes(image_bytes_in_str: str) -> str:\n",
    "  import sys\n",
    "  import torch\n",
    "  from PIL import Image\n",
    "  import os\n",
    "\n",
    "  model, transform, cls_idx = load_model()\n",
    "  img = Image.open(load_image(image_bytes_in_str))\n",
    "  img = transform(img).unsqueeze(0)\n",
    "\n",
    "  # Get model output and human text prediction\n",
    "  logits = model(img)\n",
    "\n",
    "  outp = torch.nn.functional.softmax(logits, dim=1)\n",
    "  _, idx = torch.topk(outp, 1)\n",
    "  idx.squeeze_()\n",
    "  predicted_label = cls_idx[idx.item()]\n",
    "\n",
    "  return f\"{predicted_label}\""
   ]
  },
  {
   "attachments": {},
   "cell_type": "markdown",
   "id": "ab629365",
   "metadata": {},
   "source": [
    "*NOTE: This UDF is called from [Snowpark_PyTorch_Streamlit_Upload_Image_Rec](Snowpark_PyTorch_Streamlit_Upload_Image_Rec.py) and [Snowpark_PyTorch_Streamlit_OpenAI_Image_Rec](Snowpark_PyTorch_Streamlit_OpenAI_Image_Rec.py) Streamlit apps.*"
   ]
  }
 ],
 "metadata": {
  "kernelspec": {
   "display_name": "snowpark-img-rec",
   "language": "python",
   "name": "python3"
  },
  "language_info": {
   "codemirror_mode": {
    "name": "ipython",
    "version": 3
   },
   "file_extension": ".py",
   "mimetype": "text/x-python",
   "name": "python",
   "nbconvert_exporter": "python",
   "pygments_lexer": "ipython3",
   "version": "3.8.16"
  },
  "vscode": {
   "interpreter": {
    "hash": "80dd599ee9a854293af3fe6cea99dcbf69fd37c3a4a4fc1db31d3eee29094f56"
   }
  }
 },
 "nbformat": 4,
 "nbformat_minor": 5
}
